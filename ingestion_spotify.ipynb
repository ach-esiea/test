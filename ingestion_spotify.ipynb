{
 "cells": [
  {
   "cell_type": "markdown",
   "id": "4ed1b4c4",
   "metadata": {},
   "source": [
    "# Spotify Analytics - Group D\n",
    "\n",
    "- Constança Drago Braga \n",
    "- Alexander Gross\n",
    "- Khaled Mahmoud\n",
    "- Diego Mata Saravia \n",
    "- Orlando Montalvo Puccini \n",
    "- Nadine Raad\n",
    "- Guillermo Palacín Gómez "
   ]
  },
  {
   "cell_type": "markdown",
   "id": "2c29e35d",
   "metadata": {},
   "source": [
    "## Authentication in the Spotify API\n",
    "\n",
    "Credentials are stored in an external file for security purposes"
   ]
  },
  {
   "cell_type": "code",
   "execution_count": 1,
   "id": "5f56cc78",
   "metadata": {},
   "outputs": [],
   "source": [
    "import base64\n",
    "import requests\n",
    "import json\n",
    "from urllib.parse import urlencode\n",
    "\n",
    "def load_credentials():\n",
    "    try:\n",
    "        with open('credentials.json') as f:\n",
    "            data = json.load(f)\n",
    "            return data\n",
    "    except:\n",
    "        print(\"There was an error loading the credentials.\")\n",
    "\n",
    "def request_token(token_header):\n",
    "    url =  'https://accounts.spotify.com/api/token'\n",
    "    data = {'grant_type': 'client_credentials'}\n",
    "    try:\n",
    "        response = requests.post(url, data = data, headers = token_header)\n",
    "        response_json = response.json()\n",
    "        access_token = response_json['access_token']\n",
    "        token_type = response_json['token_type']\n",
    "        expires = response_json['expires_in']\n",
    "        auth_header = {\"Authorization\": '{} {}'.format(token_type, access_token)}\n",
    "        return auth_header\n",
    "    except: \n",
    "        print(\"There was an error when requesting the access token. Contact MBD Team D Section 2 for support.\")\n",
    "    \n",
    "def get_spotify_token(): \n",
    "    credentials = load_credentials()\n",
    "    client_id = credentials['client_id']\n",
    "    client_secret = credentials['client_secret']\n",
    "    client_creds = \"{}:{}\".format(client_id, client_secret)\n",
    "    c_b64 = base64.b64encode(client_creds.encode())\n",
    "    token_header = {'Authorization': 'Basic {}'.format(c_b64.decode())}\n",
    "    auth_header = request_token(token_header)\n",
    "    return auth_header\n",
    "  "
   ]
  },
  {
   "cell_type": "code",
   "execution_count": null,
   "id": "c38d3546",
   "metadata": {},
   "outputs": [],
   "source": [
    "header = get_spotify_token()"
   ]
  },
  {
   "cell_type": "markdown",
   "id": "9fc3befb",
   "metadata": {},
   "source": [
    "## Search Request"
   ]
  },
  {
   "cell_type": "markdown",
   "id": "e114dcc5",
   "metadata": {},
   "source": [
    "## Load the usernames"
   ]
  },
  {
   "cell_type": "code",
   "execution_count": null,
   "id": "50abd982",
   "metadata": {},
   "outputs": [],
   "source": [
    "import yaml\n",
    "\n",
    "def load_usernames():\n",
    "    try:\n",
    "        with open('usernames.yaml', 'r') as f:\n",
    "            data = yaml.safe_load(f)\n",
    "            return data\n",
    "    except Exception as e:\n",
    "        print(\"There was an error loading the Usernames. Contact MBD Team D Section 2 for support.\")\n",
    "        print(e)\n",
    "        \n",
    "usernames = load_usernames()\n",
    "usernames"
   ]
  },
  {
   "cell_type": "markdown",
   "id": "c7d0fed0",
   "metadata": {},
   "source": [
    "## Search Playlist User + Tracks of playlist and save results to HDFS\n",
    "Saving to HDFS the user's playlists and its tracks with the format ```/datalake/raw/spotify/\\<user_id\\>/\\<playlist_id\\>.json```"
   ]
  },
  {
   "cell_type": "code",
   "execution_count": null,
   "id": "5acfd313",
   "metadata": {
    "scrolled": false
   },
   "outputs": [],
   "source": [
    "from hdfs import InsecureClient\n",
    "import time\n",
    "client = InsecureClient('http://localhost:50070', user='osbdet')\n",
    "\n",
    "\n",
    "base_url = 'https://api.spotify.com/v1'\n",
    "header['Content-Type'] = 'application/json'\n",
    "\n",
    "\n",
    "def get_audio_features_song(lst):\n",
    "    n = 99\n",
    "    list_chuncks = [lst[i:i + n] for i in range(0, len(lst), n)]\n",
    "    url = 'https://api.spotify.com/v1/audio-features'\n",
    "    for l in range(len(list_chuncks)):\n",
    "        try:\n",
    "            data = urlencode({\"ids\":\"{}\".format(','.join(list_chuncks[l]))})\n",
    "            lookup_url = f'{url}?{data}'\n",
    "            r = requests.get(lookup_url, headers = header)\n",
    "            features_song = r.json()\n",
    "            client.write('/datalake/raw/spotify/song_features/songs_{}.json'.format(l*100), data=json.dumps(features_song), overwrite=True)\n",
    "        except:\n",
    "            pass\n",
    "\n",
    "        \n",
    "songs = []\n",
    "for u in usernames['usernames']:\n",
    "    url = base_url + '/users/{}/playlists'.format(u['id'])\n",
    "    r = requests.get(url, headers = header)\n",
    "    user_playlists = r.json()    \n",
    "    try:\n",
    "        for p in user_playlists['items']: \n",
    "            url = base_url + '/playlists/{}'.format(p['id'])\n",
    "            r = requests.get(url, headers = header)\n",
    "            playlist_info = r.json()\n",
    "            playlist_info['user_playlist_id'] = u['id']\n",
    "            playlist_info['user_name'] = u['name']\n",
    "            client.write('/datalake/raw/spotify/users/{}/{}.json'.format(u['id'], p['id']), data=json.dumps(playlist_info), overwrite=True) \n",
    "            #time.sleep(30)\n",
    "            for song in playlist_info['tracks']['items']:\n",
    "                try:\n",
    "                    songs.append(song['track']['id'])\n",
    "                except:\n",
    "                    pass\n",
    "    except:\n",
    "        pass\n",
    "get_audio_features_song(songs)\n",
    "\n",
    "\n",
    "\n",
    "    "
   ]
  },
  {
   "cell_type": "code",
   "execution_count": null,
   "id": "0df56ede",
   "metadata": {},
   "outputs": [],
   "source": [
    "! pip install flask"
   ]
  }
 ],
 "metadata": {
  "kernelspec": {
   "display_name": "Python 3 (ipykernel)",
   "language": "python",
   "name": "python3"
  },
  "language_info": {
   "codemirror_mode": {
    "name": "ipython",
    "version": 3
   },
   "file_extension": ".py",
   "mimetype": "text/x-python",
   "name": "python",
   "nbconvert_exporter": "python",
   "pygments_lexer": "ipython3",
   "version": "3.10.2"
  }
 },
 "nbformat": 4,
 "nbformat_minor": 5
}
